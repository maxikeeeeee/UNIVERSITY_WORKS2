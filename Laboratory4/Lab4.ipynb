{
 "cells": [
  {
   "cell_type": "code",
   "execution_count": 14,
   "metadata": {},
   "outputs": [],
   "source": [
    "import numpy as np"
   ]
  },
  {
   "cell_type": "code",
   "execution_count": 15,
   "metadata": {},
   "outputs": [
    {
     "name": "stdout",
     "output_type": "stream",
     "text": [
      "AB - BA =\n",
      "[[ 4  1  9]\n",
      " [-2 -6  3]\n",
      " [-8 -9  2]]\n"
     ]
    }
   ],
   "source": [
    "# 1.1.2\n",
    "\n",
    "mat_a = np.matrix([[2, 3, 1], [-1, 1, 0], [1, 2, -1]])\n",
    "mat_b = np.matrix([[1, 2, 1], [0, 1, 2], [3, 1, 1]])\n",
    "\n",
    "print('AB - BA =')\n",
    "print(mat_a * mat_b - mat_b * mat_a)"
   ]
  },
  {
   "cell_type": "code",
   "execution_count": 16,
   "metadata": {},
   "outputs": [
    {
     "name": "stdout",
     "output_type": "stream",
     "text": [
      "A^2 =\n",
      "[[ 3  4 -4]\n",
      " [ 0  1  0]\n",
      " [-2  0  3]]\n"
     ]
    }
   ],
   "source": [
    "# 1.2.2\n",
    "mat_a = np.matrix([[-1, 0, 2], [0, 1, 0], [1, 2, -1]])\n",
    "\n",
    "print('A^2 =')\n",
    "print(mat_a * mat_a)"
   ]
  },
  {
   "cell_type": "code",
   "execution_count": 17,
   "metadata": {},
   "outputs": [
    {
     "name": "stdout",
     "output_type": "stream",
     "text": [
      "AB =\n",
      "[[ 11 -22  29]\n",
      " [  9 -27  32]\n",
      " [ 13 -17  26]]\n"
     ]
    }
   ],
   "source": [
    "# 1.3.2\n",
    "mat_a = np.matrix([[5, 8, -4], [6, 9, -5], [4, 7, -3]])\n",
    "mat_b = np.matrix([[3, 2, 5], [4, -1, 3], [9, 6, 5]])\n",
    "\n",
    "mat_c = mat_a * mat_b\n",
    "print('AB =')\n",
    "print(mat_c)\n"
   ]
  },
  {
   "cell_type": "code",
   "execution_count": 18,
   "metadata": {},
   "outputs": [
    {
     "name": "stdout",
     "output_type": "stream",
     "text": [
      "det(A) = 12.00\n"
     ]
    }
   ],
   "source": [
    "# 1.4.2\n",
    "mat_a = np.matrix([[0, 2, 0], [3, 4, 5], [6, 7, 8]])\n",
    "mat_a_det = np.linalg.det(mat_a)\n",
    "\n",
    "print(f'det(A) = {mat_a_det:.2f}')"
   ]
  },
  {
   "cell_type": "code",
   "execution_count": 19,
   "metadata": {},
   "outputs": [
    {
     "name": "stdout",
     "output_type": "stream",
     "text": [
      "det(A) = -160.00\n"
     ]
    }
   ],
   "source": [
    "# 1.5.2\n",
    "mat_a = np.matrix([[2, 3, 4, 1], [1, 2, 3, 4], [3, 4, 1, 2], [4, 1, 2, 3]])\n",
    "mat_a_det = np.linalg.det(mat_a)\n",
    "\n",
    "print(f'det(A) = {mat_a_det:.2f}')"
   ]
  },
  {
   "cell_type": "code",
   "execution_count": 20,
   "metadata": {},
   "outputs": [
    {
     "name": "stdout",
     "output_type": "stream",
     "text": [
      "A^-1 =\n",
      "[[  1.  -1.   1.]\n",
      " [-38.  41. -34.]\n",
      " [ 27. -29.  24.]]\n"
     ]
    }
   ],
   "source": [
    "# 1.6.2\n",
    "mat_a = np.matrix([[2, 5, 7], [6, 3, 4], [5, -2, -3]])\n",
    "mat_a_inv = np.linalg.inv(mat_a)\n",
    "\n",
    "print('A^-1 =')\n",
    "print(mat_a_inv)"
   ]
  },
  {
   "cell_type": "code",
   "execution_count": 28,
   "metadata": {},
   "outputs": [
    {
     "name": "stdout",
     "output_type": "stream",
     "text": [
      "rank(A) = 3\n"
     ]
    }
   ],
   "source": [
    "# 1.7.2\n",
    "mat_a = np.matrix([[1, -1, 3, 4], [0, -1, 2, 1], [1, 1, -1, 2], [2, 3, -5, 3]])\n",
    "mat_a_rank = np.linalg.matrix_rank(mat_a)\n",
    "\n",
    "print(f'rank(A) = {mat_a_rank}')"
   ]
  },
  {
   "cell_type": "code",
   "execution_count": 22,
   "metadata": {},
   "outputs": [
    {
     "name": "stdout",
     "output_type": "stream",
     "text": [
      "x=  2.00\n",
      "y= -1.00\n",
      "z= -3.00\n"
     ]
    }
   ],
   "source": [
    "# 1.8.2\n",
    "def kramer(A, B):\n",
    "    a_det = np.linalg.det(A)\n",
    "    \n",
    "    if a_det != 0:\n",
    "        x_mat = np.matrix(A)\n",
    "        x_mat[:, 0] = B\n",
    "        y_mat = np.matrix(A)\n",
    "        y_mat[:, 1] = B\n",
    "        z_mat = np.matrix(A)\n",
    "        z_mat[:, 2] = B\n",
    "\n",
    "        x = np.linalg.det(x_mat) / a_det\n",
    "        y = np.linalg.det(y_mat) / a_det\n",
    "        z = np.linalg.det(z_mat) / a_det\n",
    "\n",
    "        return x, y, z\n",
    "    else:\n",
    "        return None\n",
    "\n",
    "mat_a = np.matrix([[2, -1, 1], [3, 2, 2], [1, -2, 1]])\n",
    "mat_b = np.matrix([[2], [-2], [1]])\n",
    "\n",
    "x, y, z = kramer(mat_a, mat_b)\n",
    "print(f'x= {x: .2f}\\ny= {y: .2f}\\nz= {z: .2f}')"
   ]
  },
  {
   "cell_type": "code",
   "execution_count": 29,
   "metadata": {},
   "outputs": [
    {
     "name": "stdout",
     "output_type": "stream",
     "text": [
      "A =\n",
      "[[ -5   2  -8   3   7   0   5   0  -5]\n",
      " [  3  -3  10  -7  -6  10   5  -6  -7]\n",
      " [ 10   8  -9  -6   1   0   7   5   9]\n",
      " [  0  -3  -1   6   2   0  -4   1   4]\n",
      " [  1  -8   1   8   9  -1  -8   5   6]\n",
      " [ -1  -5  -1   4  -4  -2   7   8   5]\n",
      " [ -5   0  -6  10  -4 -10   2  -1   8]\n",
      " [ -8   3  -7  -9   0  -8   8  -5 -10]\n",
      " [  7   8   6   6  -6   6  -3   8  -2]]\n",
      "Row with the lowest average: 8\n",
      "Average: -4.00\n"
     ]
    }
   ],
   "source": [
    "# 2.6\n",
    "import random\n",
    "\n",
    "n = int(input('Enter n: '))\n",
    "m = int(input('Enter m: '))\n",
    "\n",
    "mat_a = np.matrix([[random.randint(-10, 10) for j in range(m)] for i in range(n)])\n",
    "\n",
    "print('A =')\n",
    "print(mat_a)\n",
    "\n",
    "avg_rows = np.mean(mat_a, axis=1)\n",
    "min_row = np.argmin(avg_rows)\n",
    "print(f'Row with the lowest average: {min_row+1}')\n",
    "print(f'Average: {avg_rows[min_row, 0]:.2f}')"
   ]
  }
 ],
 "metadata": {
  "kernelspec": {
   "display_name": "Python 3.10.0 64-bit",
   "language": "python",
   "name": "python3"
  },
  "language_info": {
   "codemirror_mode": {
    "name": "ipython",
    "version": 3
   },
   "file_extension": ".py",
   "mimetype": "text/x-python",
   "name": "python",
   "nbconvert_exporter": "python",
   "pygments_lexer": "ipython3",
   "version": "3.10.0"
  },
  "orig_nbformat": 4,
  "vscode": {
   "interpreter": {
    "hash": "9d510c4134c8c83d881e395b12e1a77e9e2e9fe690f25cdc8839b735785a9cd2"
   }
  }
 },
 "nbformat": 4,
 "nbformat_minor": 2
}
