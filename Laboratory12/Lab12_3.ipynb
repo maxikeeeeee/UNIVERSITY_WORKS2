{
 "cells": [
  {
   "cell_type": "code",
   "execution_count": 3,
   "id": "e077e7e5",
   "metadata": {},
   "outputs": [
    {
     "name": "stdout",
     "output_type": "stream",
     "text": [
      "Trapetzia method:  0.73608\n",
      "Check for the trapetzia method=  0.7361\n"
     ]
    }
   ],
   "source": [
    "from scipy import integrate\n",
    "import math\n",
    "eps = 0.001\n",
    "a=0.5\n",
    "b=2.3\n",
    "n=20\n",
    "def f1(x):\n",
    "    return 1/math.sqrt(x**2+4)\n",
    "\n",
    "def trap(f1,a,b,n):\n",
    "    h=(b-a)/n\n",
    "    sum=0.5*(f1(a)+f1(b))\n",
    "    for i in range(1,n):\n",
    "        sum+=f1(a+i*h)\n",
    "    return sum*h\n",
    "\n",
    "v,err = integrate.quad(f1, a, b)\n",
    "if abs (trap(f1, a, b, 2*n) -trap(f1, a, b, n))/3. <= eps:\n",
    "    print(\"Trapetzia method: \",round (trap(f1,a,b,n), 5))\n",
    "print(\"Check for the trapetzia method= \",round(v, 5))"
   ]
  },
  {
   "cell_type": "code",
   "execution_count": null,
   "id": "7d9aa71c",
   "metadata": {},
   "outputs": [],
   "source": []
  }
 ],
 "metadata": {
  "kernelspec": {
   "display_name": "Python 3 (ipykernel)",
   "language": "python",
   "name": "python3"
  },
  "language_info": {
   "codemirror_mode": {
    "name": "ipython",
    "version": 3
   },
   "file_extension": ".py",
   "mimetype": "text/x-python",
   "name": "python",
   "nbconvert_exporter": "python",
   "pygments_lexer": "ipython3",
   "version": "3.10.7"
  }
 },
 "nbformat": 4,
 "nbformat_minor": 5
}
