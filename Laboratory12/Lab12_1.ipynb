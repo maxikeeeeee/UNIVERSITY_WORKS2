{
 "cells": [
  {
   "cell_type": "code",
   "execution_count": 1,
   "id": "b9201be8",
   "metadata": {},
   "outputs": [
    {
     "name": "stdout",
     "output_type": "stream",
     "text": [
      "left rectangle: 3.91328\n",
      "right rectangle: 4.07599\n",
      "average rectangle: 3.91328\n",
      "Check for the rectangle method=  3.99412\n"
     ]
    }
   ],
   "source": [
    "from scipy import integrate\n",
    "import math\n",
    "eps = 0.001\n",
    "\n",
    "def f1(x):\n",
    "  return math.sqrt(x**2+3.2)\n",
    "\n",
    "def left_rec(f1,a,b,n):      #Метод лівих\n",
    " h=(b-a)/n\n",
    " sum=0\n",
    " for i in range(0, n):\n",
    "   sum+=f1(a+i*h)\n",
    " return sum*h\n",
    "\n",
    "v,err = integrate.quad(f1,1.2,2.7)\n",
    "if abs(left_rec(f1, 1.2, 2.7, 10) - left_rec(f1, 1.2, 2.7, 10))/3. <=eps:\n",
    "   print(\"left rectangle:\", round (left_rec(f1, 1.2, 2.7, 10), 5))\n",
    "\n",
    "def right_rec(f1, a, b, n):     #Метод правих\n",
    " h = (b - a) / n\n",
    " sum = 0\n",
    " for i in range(1, n + 1):\n",
    "   sum += f1(a + i * h)\n",
    " return sum * h\n",
    "print(\"right rectangle:\",round (right_rec(f1,1.2,2.7,10), 5))\n",
    "\n",
    "def aver_rec(f1, a, b, n):       #Метод середніх\n",
    " h = 0.15\n",
    " sum = 0\n",
    " for i in range(0, n):\n",
    "   sum += f1(a + i * h)\n",
    " return sum * h\n",
    "print(\"average rectangle:\", round(aver_rec(f1, 1.2, 2.7, 10), 5))\n",
    "print(\"Check for the rectangle method= \", round(v, 5))\n"
   ]
  },
  {
   "cell_type": "code",
   "execution_count": null,
   "id": "0f484741",
   "metadata": {},
   "outputs": [],
   "source": []
  }
 ],
 "metadata": {
  "kernelspec": {
   "display_name": "Python 3 (ipykernel)",
   "language": "python",
   "name": "python3"
  },
  "language_info": {
   "codemirror_mode": {
    "name": "ipython",
    "version": 3
   },
   "file_extension": ".py",
   "mimetype": "text/x-python",
   "name": "python",
   "nbconvert_exporter": "python",
   "pygments_lexer": "ipython3",
   "version": "3.10.7"
  }
 },
 "nbformat": 4,
 "nbformat_minor": 5
}
