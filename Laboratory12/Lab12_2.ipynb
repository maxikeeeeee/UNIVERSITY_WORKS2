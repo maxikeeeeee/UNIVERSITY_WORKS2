{
 "cells": [
  {
   "cell_type": "code",
   "execution_count": 2,
   "id": "bda5da61",
   "metadata": {},
   "outputs": [
    {
     "name": "stdout",
     "output_type": "stream",
     "text": [
      "Simpsone method:  2.10711\n",
      "Check for the simpsone method=  2.10711\n"
     ]
    }
   ],
   "source": [
    "from scipy import integrate\n",
    "import math\n",
    "eps = 0.001\n",
    "\n",
    "def f1(x):\n",
    "    return (x+1)*math.sin(x)\n",
    "\n",
    "def simpson(a,b,n):\n",
    "    h = (b - a) / n\n",
    "    integr = f1(a) + f1(b)\n",
    "    for i in range(1,n):\n",
    "        k = a + i*h\n",
    "        if i%2 == 0:\n",
    "            integr += 2 * f1(k)\n",
    "        else:\n",
    "            integr += 4 * f1(k)\n",
    "    integr *= h/3\n",
    "    return integr\n",
    "if abs(simpson(1.6,2.4,2*8) -simpson(1.6,2.4,8))/ 15. <= eps:\n",
    "    print(\"Simpsone method: \", round (simpson(1.6,2.4,8), 5))\n",
    "\n",
    "v,err = integrate.quad(f1,1.6,2.4)\n",
    "print(\"Check for the simpsone method= \",round(v, 5))"
   ]
  },
  {
   "cell_type": "code",
   "execution_count": null,
   "id": "9257615a",
   "metadata": {},
   "outputs": [],
   "source": []
  }
 ],
 "metadata": {
  "kernelspec": {
   "display_name": "Python 3 (ipykernel)",
   "language": "python",
   "name": "python3"
  },
  "language_info": {
   "codemirror_mode": {
    "name": "ipython",
    "version": 3
   },
   "file_extension": ".py",
   "mimetype": "text/x-python",
   "name": "python",
   "nbconvert_exporter": "python",
   "pygments_lexer": "ipython3",
   "version": "3.10.7"
  }
 },
 "nbformat": 4,
 "nbformat_minor": 5
}
