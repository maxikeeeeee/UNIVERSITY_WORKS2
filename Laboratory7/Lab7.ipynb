{
 "cells": [
  {
   "cell_type": "code",
   "execution_count": 1,
   "id": "0c0cdfbf",
   "metadata": {},
   "outputs": [
    {
     "name": "stdout",
     "output_type": "stream",
     "text": [
      "Крок таблиці h =  0.5\n"
     ]
    }
   ],
   "source": [
    "import numpy as np\n",
    "import math\n",
    "mas_x = [1.5,2.0,2.5,3.0,3.5,4.0]\n",
    "mas_y = [10.517,10.193,9.807,9.387,8.977,8.637]\n",
    "h = mas_x[1] - mas_x[0]\n",
    "print ('Крок таблиці h = ' ,h)\n",
    "mas_1 = []\n",
    "mas_2 = []\n",
    "mas_3 = []\n",
    "mas_4 = []"
   ]
  },
  {
   "cell_type": "code",
   "execution_count": 2,
   "id": "cb333972",
   "metadata": {},
   "outputs": [
    {
     "name": "stdout",
     "output_type": "stream",
     "text": [
      "ΔYi =  [-0.32399999999999984, -0.38599999999999923, -0.41999999999999993, -0.41000000000000014, -0.33999999999999986]\n",
      "Δ^2Yi= [-0.06199999999999939, -0.034000000000000696, 0.009999999999999787, 0.07000000000000028]\n",
      "Δ^3Yi= [0.027999999999998693, 0.04400000000000048, 0.0600000000000005]\n",
      "Δ^4Yi= [0.01600000000000179, 0.016000000000000014]\n"
     ]
    }
   ],
   "source": [
    "for i in range(len(mas_y)):\n",
    "    mas_1.append(mas_y[i] - mas_y[i-1])\n",
    "mas_1.pop (0)\n",
    "print('ΔYi = ', mas_1)\n",
    "for j in range(len(mas_1)):\n",
    "    mas_2.append(mas_1[j] - mas_1[j-1])\n",
    "mas_2.pop (0)\n",
    "print('Δ^2Yi=',mas_2 )\n",
    "\n",
    "for k in range(len(mas_2)):\n",
    "    mas_3.append(mas_2[k] - mas_2[k-1])\n",
    "mas_3.pop (0)\n",
    "print('Δ^3Yi=',mas_3)\n",
    "\n",
    "for l in range(len(mas_3)):\n",
    "    mas_4.append(mas_3[l] - mas_3[l-1])\n",
    "mas_4.pop (0)\n",
    "print('Δ^4Yi=',mas_4)\n"
   ]
  },
  {
   "cell_type": "code",
   "execution_count": 3,
   "id": "ecaf9d64",
   "metadata": {},
   "outputs": [
    {
     "name": "stdout",
     "output_type": "stream",
     "text": [
      "Перша похідна = -0.7166666666666641\n",
      "Друга похідна = -0.253333333333338\n"
     ]
    }
   ],
   "source": [
    "y1 = 1/ h * (mas_1[1] - (mas_2[1]/ 2) + (mas_3[1] /3) - (mas_4[1]/4))\n",
    "y2 = 1/ (h**2) * (mas_2[1] - mas_3[1] + 11/12*mas_4[1])\n",
    "\n",
    "print ('Перша похідна =', y1)\n",
    "print ('Друга похідна =', y2)"
   ]
  },
  {
   "cell_type": "code",
   "execution_count": null,
   "id": "265cce0e",
   "metadata": {},
   "outputs": [],
   "source": []
  }
 ],
 "metadata": {
  "kernelspec": {
   "display_name": "Python 3 (ipykernel)",
   "language": "python",
   "name": "python3"
  },
  "language_info": {
   "codemirror_mode": {
    "name": "ipython",
    "version": 3
   },
   "file_extension": ".py",
   "mimetype": "text/x-python",
   "name": "python",
   "nbconvert_exporter": "python",
   "pygments_lexer": "ipython3",
   "version": "3.10.7"
  }
 },
 "nbformat": 4,
 "nbformat_minor": 5
}
