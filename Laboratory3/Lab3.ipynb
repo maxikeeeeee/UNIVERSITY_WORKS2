{
 "cells": [
  {
   "cell_type": "code",
   "execution_count": 32,
   "metadata": {},
   "outputs": [],
   "source": [
    "def f(x):\n",
    "    return 3*x**4 + 4*x**3 - 12*x**2 - 5"
   ]
  },
  {
   "cell_type": "code",
   "execution_count": 33,
   "metadata": {},
   "outputs": [],
   "source": [
    "import numpy as np\n",
    "\n",
    "def find_segments():\n",
    "    search_range = np.arange(-10, 10, 0.01)\n",
    "    \n",
    "    a = None\n",
    "\n",
    "    previous_x = None\n",
    "    current_x  = None\n",
    "\n",
    "    segments = []\n",
    "\n",
    "    for x in search_range:\n",
    "        x = round(x, 4)\n",
    "        current_x = f(x)\n",
    "        if previous_x != None and previous_x * current_x < 0:\n",
    "            segments.append((a, x))\n",
    "        a = x\n",
    "        previous_x = current_x\n",
    "    \n",
    "    return segments"
   ]
  },
  {
   "cell_type": "code",
   "execution_count": 34,
   "metadata": {},
   "outputs": [],
   "source": [
    "from scipy.misc import derivative\n",
    "def newton(a, b, eps):\n",
    "    f1 = derivative(f, b, n=1)\n",
    "    f2 = derivative(f, b, n=2)\n",
    "    if f1 * f2 > 0:\n",
    "        xi = b\n",
    "    else:\n",
    "        xi = a\n",
    "    \n",
    "    f1 = derivative(f, xi, n=1)\n",
    "    xi_1 = xi - f(xi) / f1\n",
    "    while abs(xi_1 - xi) > eps:\n",
    "        xi = xi_1\n",
    "        xi_1 = xi - f(xi) / f1\n",
    "    return xi_1\n",
    "    "
   ]
  },
  {
   "cell_type": "code",
   "execution_count": 35,
   "metadata": {},
   "outputs": [
    {
     "name": "stdout",
     "output_type": "stream",
     "text": [
      "Found root in [-2.83, -2.82]\n",
      "Found root in [1.59, 1.6]\n",
      "Finding root with Newton method\n",
      "Root in [-2.83, -2.82]: -2.823867\n",
      "Root in [1.59, 1.6]: 1.592138\n"
     ]
    }
   ],
   "source": [
    "segments = find_segments()\n",
    "eps = 0.0001\n",
    "\n",
    "print(\"Finding root with Newton method\")\n",
    "for a, b in segments:\n",
    "    print(f\"Root in [{a}, {b}]: {round(newton(a, b, eps), 6)}\")"
   ]
  },
  {
   "cell_type": "code",
   "execution_count": 36,
   "metadata": {},
   "outputs": [],
   "source": [
    "def combined_method(a, b, eps):\n",
    "    if derivative(f, a, n=1) * derivative(f, a, n=2) > 0:\n",
    "        a_1 = a - f(a) * (b - a) / (f(b) - f(a))\n",
    "        b_1 = b - f(b) / derivative(f, b, n=1)\n",
    "\n",
    "        while not abs(b - a) < eps:\n",
    "            a = a_1\n",
    "            b = b_1\n",
    "            a_1 = a - f(a) * (b - a) / (f(b) - f(a))\n",
    "            b_1 = b - f(b) / derivative(f, b, n=1)\n",
    "        \n",
    "        return (a + b) / 2\n",
    "    else:\n",
    "        a_1 = a - f(a) / derivative(f, a, n=1)\n",
    "        b_1 = b - f(b) * (b - a) / (f(b) - f(a))\n",
    "\n",
    "        while not abs(b - a) < eps:\n",
    "            a = a_1\n",
    "            b = b_1\n",
    "            a_1 = a - f(a) / derivative(f, a, n=1)\n",
    "            b_1 = b - f(b) * (b - a) / (f(b) - f(a))\n",
    "        \n",
    "        return (a + b) / 2"
   ]
  },
  {
   "cell_type": "code",
   "execution_count": 37,
   "metadata": {},
   "outputs": [
    {
     "name": "stdout",
     "output_type": "stream",
     "text": [
      "Finding root with combined method\n",
      "Root in [-2.83, -2.82]: -2.823886\n",
      "Root in [1.59, 1.6]: 1.592113\n"
     ]
    }
   ],
   "source": [
    "print(\"Finding root with combined method\")\n",
    "for a, b in segments:\n",
    "    print(f\"Root in [{a}, {b}]: {round(combined_method(a, b, eps), 6)}\")"
   ]
  }
 ],
 "metadata": {
  "kernelspec": {
   "display_name": "Python 3.10.1 64-bit",
   "language": "python",
   "name": "python3"
  },
  "language_info": {
   "codemirror_mode": {
    "name": "ipython",
    "version": 3
   },
   "file_extension": ".py",
   "mimetype": "text/x-python",
   "name": "python",
   "nbconvert_exporter": "python",
   "pygments_lexer": "ipython3",
   "version": "3.10.1"
  },
  "orig_nbformat": 4,
  "vscode": {
   "interpreter": {
    "hash": "9d510c4134c8c83d881e395b12e1a77e9e2e9fe690f25cdc8839b735785a9cd2"
   }
  }
 },
 "nbformat": 4,
 "nbformat_minor": 2
}
